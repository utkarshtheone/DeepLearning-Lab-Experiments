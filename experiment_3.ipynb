{
  "nbformat": 4,
  "nbformat_minor": 0,
  "metadata": {
    "colab": {
      "name": "experiment_2_2K18_IT_127.ipynb",
      "provenance": []
    },
    "kernelspec": {
      "name": "python3",
      "display_name": "Python 3"
    }
  },
  "cells": [
    {
      "cell_type": "code",
      "metadata": {
        "id": "nK85DlS75F9J"
      },
      "source": [
        "import matplotlib as plt\r\n",
        "import seaborn as sns\r\n",
        "import numpy as np\r\n",
        "from sklearn.metrics import confusion_matrix"
      ],
      "execution_count": null,
      "outputs": []
    },
    {
      "cell_type": "code",
      "metadata": {
        "id": "TZPKZn5V_n-v"
      },
      "source": [
        "import keras\r\n",
        "from keras.datasets import mnist\r\n",
        "from keras.layers import Dense\r\n",
        "from keras.models import Sequential\r\n",
        "from matplotlib import pyplot as plt\r\n",
        "from random import randint"
      ],
      "execution_count": null,
      "outputs": []
    },
    {
      "cell_type": "code",
      "metadata": {
        "colab": {
          "base_uri": "https://localhost:8080/"
        },
        "id": "cNT3VfSTAIBg",
        "outputId": "7ca9ccfd-953b-462b-cfdf-125961c19e14"
      },
      "source": [
        "(x_train,y_train),(x_test,y_test)=mnist.load_data()"
      ],
      "execution_count": null,
      "outputs": [
        {
          "output_type": "stream",
          "text": [
            "Downloading data from https://storage.googleapis.com/tensorflow/tf-keras-datasets/mnist.npz\n",
            "11493376/11490434 [==============================] - 0s 0us/step\n"
          ],
          "name": "stdout"
        }
      ]
    },
    {
      "cell_type": "code",
      "metadata": {
        "id": "SZHo71y5AahT"
      },
      "source": [
        "x_train_drawing=x_train"
      ],
      "execution_count": null,
      "outputs": []
    },
    {
      "cell_type": "code",
      "metadata": {
        "colab": {
          "base_uri": "https://localhost:8080/"
        },
        "id": "6PChpqheAgky",
        "outputId": "2a249dc4-8e9c-4717-dd96-801097e9abb4"
      },
      "source": [
        "print(\"x_train:\",x_train[0])\r\n",
        "print(\"y_train:\",y_train[0])"
      ],
      "execution_count": null,
      "outputs": [
        {
          "output_type": "stream",
          "text": [
            "x_train: [[  0   0   0   0   0   0   0   0   0   0   0   0   0   0   0   0   0   0\n",
            "    0   0   0   0   0   0   0   0   0   0]\n",
            " [  0   0   0   0   0   0   0   0   0   0   0   0   0   0   0   0   0   0\n",
            "    0   0   0   0   0   0   0   0   0   0]\n",
            " [  0   0   0   0   0   0   0   0   0   0   0   0   0   0   0   0   0   0\n",
            "    0   0   0   0   0   0   0   0   0   0]\n",
            " [  0   0   0   0   0   0   0   0   0   0   0   0   0   0   0   0   0   0\n",
            "    0   0   0   0   0   0   0   0   0   0]\n",
            " [  0   0   0   0   0   0   0   0   0   0   0   0   0   0   0   0   0   0\n",
            "    0   0   0   0   0   0   0   0   0   0]\n",
            " [  0   0   0   0   0   0   0   0   0   0   0   0   3  18  18  18 126 136\n",
            "  175  26 166 255 247 127   0   0   0   0]\n",
            " [  0   0   0   0   0   0   0   0  30  36  94 154 170 253 253 253 253 253\n",
            "  225 172 253 242 195  64   0   0   0   0]\n",
            " [  0   0   0   0   0   0   0  49 238 253 253 253 253 253 253 253 253 251\n",
            "   93  82  82  56  39   0   0   0   0   0]\n",
            " [  0   0   0   0   0   0   0  18 219 253 253 253 253 253 198 182 247 241\n",
            "    0   0   0   0   0   0   0   0   0   0]\n",
            " [  0   0   0   0   0   0   0   0  80 156 107 253 253 205  11   0  43 154\n",
            "    0   0   0   0   0   0   0   0   0   0]\n",
            " [  0   0   0   0   0   0   0   0   0  14   1 154 253  90   0   0   0   0\n",
            "    0   0   0   0   0   0   0   0   0   0]\n",
            " [  0   0   0   0   0   0   0   0   0   0   0 139 253 190   2   0   0   0\n",
            "    0   0   0   0   0   0   0   0   0   0]\n",
            " [  0   0   0   0   0   0   0   0   0   0   0  11 190 253  70   0   0   0\n",
            "    0   0   0   0   0   0   0   0   0   0]\n",
            " [  0   0   0   0   0   0   0   0   0   0   0   0  35 241 225 160 108   1\n",
            "    0   0   0   0   0   0   0   0   0   0]\n",
            " [  0   0   0   0   0   0   0   0   0   0   0   0   0  81 240 253 253 119\n",
            "   25   0   0   0   0   0   0   0   0   0]\n",
            " [  0   0   0   0   0   0   0   0   0   0   0   0   0   0  45 186 253 253\n",
            "  150  27   0   0   0   0   0   0   0   0]\n",
            " [  0   0   0   0   0   0   0   0   0   0   0   0   0   0   0  16  93 252\n",
            "  253 187   0   0   0   0   0   0   0   0]\n",
            " [  0   0   0   0   0   0   0   0   0   0   0   0   0   0   0   0   0 249\n",
            "  253 249  64   0   0   0   0   0   0   0]\n",
            " [  0   0   0   0   0   0   0   0   0   0   0   0   0   0  46 130 183 253\n",
            "  253 207   2   0   0   0   0   0   0   0]\n",
            " [  0   0   0   0   0   0   0   0   0   0   0   0  39 148 229 253 253 253\n",
            "  250 182   0   0   0   0   0   0   0   0]\n",
            " [  0   0   0   0   0   0   0   0   0   0  24 114 221 253 253 253 253 201\n",
            "   78   0   0   0   0   0   0   0   0   0]\n",
            " [  0   0   0   0   0   0   0   0  23  66 213 253 253 253 253 198  81   2\n",
            "    0   0   0   0   0   0   0   0   0   0]\n",
            " [  0   0   0   0   0   0  18 171 219 253 253 253 253 195  80   9   0   0\n",
            "    0   0   0   0   0   0   0   0   0   0]\n",
            " [  0   0   0   0  55 172 226 253 253 253 253 244 133  11   0   0   0   0\n",
            "    0   0   0   0   0   0   0   0   0   0]\n",
            " [  0   0   0   0 136 253 253 253 212 135 132  16   0   0   0   0   0   0\n",
            "    0   0   0   0   0   0   0   0   0   0]\n",
            " [  0   0   0   0   0   0   0   0   0   0   0   0   0   0   0   0   0   0\n",
            "    0   0   0   0   0   0   0   0   0   0]\n",
            " [  0   0   0   0   0   0   0   0   0   0   0   0   0   0   0   0   0   0\n",
            "    0   0   0   0   0   0   0   0   0   0]\n",
            " [  0   0   0   0   0   0   0   0   0   0   0   0   0   0   0   0   0   0\n",
            "    0   0   0   0   0   0   0   0   0   0]]\n",
            "y_train: 5\n"
          ],
          "name": "stdout"
        }
      ]
    },
    {
      "cell_type": "code",
      "metadata": {
        "colab": {
          "base_uri": "https://localhost:8080/"
        },
        "id": "PmdKRYa9Asn0",
        "outputId": "e4d8b335-ce73-4954-854f-29f9e480a904"
      },
      "source": [
        "print(\"x_train_shape:\",x_train.shape)\r\n",
        "print(\"y_train_shape:\",y_train.shape)\r\n"
      ],
      "execution_count": null,
      "outputs": [
        {
          "output_type": "stream",
          "text": [
            "x_train_shape: (60000, 28, 28)\n",
            "y_train_shape: (60000,)\n"
          ],
          "name": "stdout"
        }
      ]
    },
    {
      "cell_type": "code",
      "metadata": {
        "id": "DdQS3T5wA3lF"
      },
      "source": [
        "image_size=784\r\n",
        "x_train=x_train.reshape(x_train.shape[0],image_size)\r\n",
        "x_test=x_test.reshape(x_test.shape[0],image_size)\r\n"
      ],
      "execution_count": null,
      "outputs": []
    },
    {
      "cell_type": "code",
      "metadata": {
        "colab": {
          "base_uri": "https://localhost:8080/"
        },
        "id": "QTel8VXvBSkJ",
        "outputId": "156b8ea1-a55b-485a-aafb-9aecd79732a7"
      },
      "source": [
        "print(\"After reshaping\")\r\n",
        "print(\"x_train_shape:\",x_train.shape)\r\n",
        "print(\"x_test_shape:\",x_test.shape)"
      ],
      "execution_count": null,
      "outputs": [
        {
          "output_type": "stream",
          "text": [
            "After reshaping\n",
            "x_train_shape: (60000, 784)\n",
            "x_test_shape: (10000, 784)\n"
          ],
          "name": "stdout"
        }
      ]
    },
    {
      "cell_type": "code",
      "metadata": {
        "id": "UHQzUL3lCmmc"
      },
      "source": [
        "num_classes = 10\r\n",
        "y_train=keras.utils.to_categorical(y_train,num_classes)\r\n",
        "y_test=keras.utils.to_categorical(y_test,num_classes)"
      ],
      "execution_count": null,
      "outputs": []
    },
    {
      "cell_type": "code",
      "metadata": {
        "colab": {
          "base_uri": "https://localhost:8080/"
        },
        "id": "klHIdJWvC_Qq",
        "outputId": "3ab99b7d-018a-4939-ad9b-eea7ae1292b0"
      },
      "source": [
        "print(y_train.shape)\r\n",
        "print(y_train[0])"
      ],
      "execution_count": null,
      "outputs": [
        {
          "output_type": "stream",
          "text": [
            "(60000, 10)\n",
            "[0. 0. 0. 0. 0. 1. 0. 0. 0. 0.]\n"
          ],
          "name": "stdout"
        }
      ]
    },
    {
      "cell_type": "code",
      "metadata": {
        "colab": {
          "base_uri": "https://localhost:8080/",
          "height": 248
        },
        "id": "XlWvOkBADN8i",
        "outputId": "97d58b40-007e-4405-ae04-993e9b91c41c"
      },
      "source": [
        "for i in range(64):\r\n",
        "  ax = plt.subplot(8,8,i+1)\r\n",
        "  ax.axis('off')\r\n",
        "  plt.imshow(x_train_drawing[randint(0,x_train.shape[0])],cmap='Greys')"
      ],
      "execution_count": null,
      "outputs": [
        {
          "output_type": "display_data",
          "data": {
            "image/png": "[encoded data removed]",
            "text/plain": [
              "<Figure size 432x288 with 64 Axes>"
            ]
          },
          "metadata": {
            "tags": [],
            "needs_background": "light"
          }
        }
      ]
    },
    {
      "cell_type": "code",
      "metadata": {
        "colab": {
          "base_uri": "https://localhost:8080/"
        },
        "id": "au9EQhOtEPbo",
        "outputId": "d0bf7aa1-ea8d-4612-d66b-36887951b85f"
      },
      "source": [
        "model = Sequential()\r\n",
        "model.add(Dense(units=32,activation='sigmoid',input_shape=(image_size,)))\r\n",
        "model.add(Dense(units=num_classes,activation='softmax'))\r\n",
        "model.summary()"
      ],
      "execution_count": null,
      "outputs": [
        {
          "output_type": "stream",
          "text": [
            "Model: \"sequential_1\"\n",
            "_________________________________________________________________\n",
            "Layer (type)                 Output Shape              Param #   \n",
            "=================================================================\n",
            "dense_2 (Dense)              (None, 32)                25120     \n",
            "_________________________________________________________________\n",
            "dense_3 (Dense)              (None, 10)                330       \n",
            "=================================================================\n",
            "Total params: 25,450\n",
            "Trainable params: 25,450\n",
            "Non-trainable params: 0\n",
            "_________________________________________________________________\n"
          ],
          "name": "stdout"
        }
      ]
    },
    {
      "cell_type": "code",
      "metadata": {
        "colab": {
          "base_uri": "https://localhost:8080/"
        },
        "id": "nsl1j34CEvmR",
        "outputId": "ad896217-b229-4d3b-fff2-fa8e87d71660"
      },
      "source": [
        "model.compile(optimizer='sgd',loss='categorical_crossentropy',metrics=['accuracy'])\r\n",
        "history=model.fit(x_train,y_train,batch_size=128,epochs=100,verbose=True,validation_split=.1)"
      ],
      "execution_count": null,
      "outputs": [
        {
          "output_type": "stream",
          "text": [
            "Epoch 1/100\n",
            "422/422 [==============================] - 2s 3ms/step - loss: 1.7385 - accuracy: 0.4710 - val_loss: 0.9612 - val_accuracy: 0.8188\n",
            "Epoch 2/100\n",
            "422/422 [==============================] - 1s 2ms/step - loss: 0.9309 - accuracy: 0.8142 - val_loss: 0.6928 - val_accuracy: 0.8755\n",
            "Epoch 3/100\n",
            "422/422 [==============================] - 1s 3ms/step - loss: 0.7107 - accuracy: 0.8558 - val_loss: 0.5672 - val_accuracy: 0.8873\n",
            "Epoch 4/100\n",
            "422/422 [==============================] - 1s 2ms/step - loss: 0.5966 - accuracy: 0.8710 - val_loss: 0.4918 - val_accuracy: 0.8978\n",
            "Epoch 5/100\n",
            "422/422 [==============================] - 1s 2ms/step - loss: 0.5228 - accuracy: 0.8829 - val_loss: 0.4458 - val_accuracy: 0.9045\n",
            "Epoch 6/100\n",
            "422/422 [==============================] - 1s 2ms/step - loss: 0.4824 - accuracy: 0.8868 - val_loss: 0.4002 - val_accuracy: 0.9097\n",
            "Epoch 7/100\n",
            "422/422 [==============================] - 1s 2ms/step - loss: 0.4476 - accuracy: 0.8927 - val_loss: 0.3854 - val_accuracy: 0.9108\n",
            "Epoch 8/100\n",
            "422/422 [==============================] - 1s 2ms/step - loss: 0.4251 - accuracy: 0.8962 - val_loss: 0.3614 - val_accuracy: 0.9102\n",
            "Epoch 9/100\n",
            "422/422 [==============================] - 1s 2ms/step - loss: 0.4033 - accuracy: 0.8996 - val_loss: 0.3498 - val_accuracy: 0.9142\n",
            "Epoch 10/100\n",
            "422/422 [==============================] - 1s 2ms/step - loss: 0.3825 - accuracy: 0.9043 - val_loss: 0.3239 - val_accuracy: 0.9195\n",
            "Epoch 11/100\n",
            "422/422 [==============================] - 1s 2ms/step - loss: 0.3714 - accuracy: 0.9046 - val_loss: 0.3229 - val_accuracy: 0.9182\n",
            "Epoch 12/100\n",
            "422/422 [==============================] - 1s 2ms/step - loss: 0.3561 - accuracy: 0.9077 - val_loss: 0.3153 - val_accuracy: 0.9187\n",
            "Epoch 13/100\n",
            "422/422 [==============================] - 1s 2ms/step - loss: 0.3515 - accuracy: 0.9088 - val_loss: 0.3032 - val_accuracy: 0.9190\n",
            "Epoch 14/100\n",
            "422/422 [==============================] - 1s 2ms/step - loss: 0.3428 - accuracy: 0.9083 - val_loss: 0.2895 - val_accuracy: 0.9208\n",
            "Epoch 15/100\n",
            "422/422 [==============================] - 1s 2ms/step - loss: 0.3325 - accuracy: 0.9117 - val_loss: 0.2858 - val_accuracy: 0.9267\n",
            "Epoch 16/100\n",
            "422/422 [==============================] - 1s 2ms/step - loss: 0.3310 - accuracy: 0.9106 - val_loss: 0.2809 - val_accuracy: 0.9282\n",
            "Epoch 17/100\n",
            "422/422 [==============================] - 1s 2ms/step - loss: 0.3217 - accuracy: 0.9135 - val_loss: 0.2769 - val_accuracy: 0.9268\n",
            "Epoch 18/100\n",
            "422/422 [==============================] - 1s 2ms/step - loss: 0.3087 - accuracy: 0.9170 - val_loss: 0.2761 - val_accuracy: 0.9250\n",
            "Epoch 19/100\n",
            "422/422 [==============================] - 1s 2ms/step - loss: 0.3038 - accuracy: 0.9166 - val_loss: 0.2895 - val_accuracy: 0.9233\n",
            "Epoch 20/100\n",
            "422/422 [==============================] - 1s 2ms/step - loss: 0.3044 - accuracy: 0.9180 - val_loss: 0.2645 - val_accuracy: 0.9287\n",
            "Epoch 21/100\n",
            "422/422 [==============================] - 1s 2ms/step - loss: 0.3033 - accuracy: 0.9183 - val_loss: 0.2643 - val_accuracy: 0.9295\n",
            "Epoch 22/100\n",
            "422/422 [==============================] - 1s 2ms/step - loss: 0.2879 - accuracy: 0.9198 - val_loss: 0.2610 - val_accuracy: 0.9273\n",
            "Epoch 23/100\n",
            "422/422 [==============================] - 1s 2ms/step - loss: 0.2938 - accuracy: 0.9183 - val_loss: 0.2534 - val_accuracy: 0.9315\n",
            "Epoch 24/100\n",
            "422/422 [==============================] - 1s 2ms/step - loss: 0.2826 - accuracy: 0.9220 - val_loss: 0.2708 - val_accuracy: 0.9275\n",
            "Epoch 25/100\n",
            "422/422 [==============================] - 1s 2ms/step - loss: 0.2831 - accuracy: 0.9216 - val_loss: 0.2581 - val_accuracy: 0.9287\n",
            "Epoch 26/100\n",
            "422/422 [==============================] - 1s 2ms/step - loss: 0.2759 - accuracy: 0.9240 - val_loss: 0.2450 - val_accuracy: 0.9327\n",
            "Epoch 27/100\n",
            "422/422 [==============================] - 1s 2ms/step - loss: 0.2691 - accuracy: 0.9261 - val_loss: 0.2380 - val_accuracy: 0.9325\n",
            "Epoch 28/100\n",
            "422/422 [==============================] - 1s 2ms/step - loss: 0.2642 - accuracy: 0.9284 - val_loss: 0.2386 - val_accuracy: 0.9347\n",
            "Epoch 29/100\n",
            "422/422 [==============================] - 1s 2ms/step - loss: 0.2638 - accuracy: 0.9262 - val_loss: 0.2403 - val_accuracy: 0.9323\n",
            "Epoch 30/100\n",
            "422/422 [==============================] - 1s 2ms/step - loss: 0.2628 - accuracy: 0.9271 - val_loss: 0.2397 - val_accuracy: 0.9328\n",
            "Epoch 31/100\n",
            "422/422 [==============================] - 1s 3ms/step - loss: 0.2674 - accuracy: 0.9245 - val_loss: 0.2394 - val_accuracy: 0.9338\n",
            "Epoch 32/100\n",
            "422/422 [==============================] - 1s 2ms/step - loss: 0.2623 - accuracy: 0.9249 - val_loss: 0.2295 - val_accuracy: 0.9368\n",
            "Epoch 33/100\n",
            "422/422 [==============================] - 1s 2ms/step - loss: 0.2547 - accuracy: 0.9279 - val_loss: 0.2333 - val_accuracy: 0.9355\n",
            "Epoch 34/100\n",
            "422/422 [==============================] - 1s 2ms/step - loss: 0.2503 - accuracy: 0.9300 - val_loss: 0.2309 - val_accuracy: 0.9358\n",
            "Epoch 35/100\n",
            "422/422 [==============================] - 1s 2ms/step - loss: 0.2537 - accuracy: 0.9302 - val_loss: 0.2425 - val_accuracy: 0.9340\n",
            "Epoch 36/100\n",
            "422/422 [==============================] - 1s 2ms/step - loss: 0.2529 - accuracy: 0.9305 - val_loss: 0.2385 - val_accuracy: 0.9328\n",
            "Epoch 37/100\n",
            "422/422 [==============================] - 1s 2ms/step - loss: 0.2531 - accuracy: 0.9287 - val_loss: 0.2290 - val_accuracy: 0.9365\n",
            "Epoch 38/100\n",
            "422/422 [==============================] - 1s 2ms/step - loss: 0.2501 - accuracy: 0.9303 - val_loss: 0.2256 - val_accuracy: 0.9370\n",
            "Epoch 39/100\n",
            "422/422 [==============================] - 1s 2ms/step - loss: 0.2458 - accuracy: 0.9318 - val_loss: 0.2258 - val_accuracy: 0.9360\n",
            "Epoch 40/100\n",
            "422/422 [==============================] - 1s 2ms/step - loss: 0.2421 - accuracy: 0.9302 - val_loss: 0.2277 - val_accuracy: 0.9340\n",
            "Epoch 41/100\n",
            "422/422 [==============================] - 1s 2ms/step - loss: 0.2366 - accuracy: 0.9334 - val_loss: 0.2183 - val_accuracy: 0.9402\n",
            "Epoch 42/100\n",
            "422/422 [==============================] - 1s 2ms/step - loss: 0.2350 - accuracy: 0.9334 - val_loss: 0.2237 - val_accuracy: 0.9358\n",
            "Epoch 43/100\n",
            "422/422 [==============================] - 1s 2ms/step - loss: 0.2395 - accuracy: 0.9316 - val_loss: 0.2270 - val_accuracy: 0.9362\n",
            "Epoch 44/100\n",
            "422/422 [==============================] - 1s 2ms/step - loss: 0.2336 - accuracy: 0.9322 - val_loss: 0.2187 - val_accuracy: 0.9348\n",
            "Epoch 45/100\n",
            "422/422 [==============================] - 1s 2ms/step - loss: 0.2305 - accuracy: 0.9359 - val_loss: 0.2179 - val_accuracy: 0.9362\n",
            "Epoch 46/100\n",
            "422/422 [==============================] - 1s 2ms/step - loss: 0.2302 - accuracy: 0.9357 - val_loss: 0.2139 - val_accuracy: 0.9392\n",
            "Epoch 47/100\n",
            "422/422 [==============================] - 1s 2ms/step - loss: 0.2236 - accuracy: 0.9361 - val_loss: 0.2165 - val_accuracy: 0.9372\n",
            "Epoch 48/100\n",
            "422/422 [==============================] - 1s 2ms/step - loss: 0.2289 - accuracy: 0.9348 - val_loss: 0.2141 - val_accuracy: 0.9393\n",
            "Epoch 49/100\n",
            "422/422 [==============================] - 1s 2ms/step - loss: 0.2261 - accuracy: 0.9354 - val_loss: 0.2113 - val_accuracy: 0.9390\n",
            "Epoch 50/100\n",
            "422/422 [==============================] - 1s 2ms/step - loss: 0.2265 - accuracy: 0.9335 - val_loss: 0.2206 - val_accuracy: 0.9377\n",
            "Epoch 51/100\n",
            "422/422 [==============================] - 1s 2ms/step - loss: 0.2227 - accuracy: 0.9352 - val_loss: 0.2132 - val_accuracy: 0.9402\n",
            "Epoch 52/100\n",
            "422/422 [==============================] - 1s 2ms/step - loss: 0.2228 - accuracy: 0.9360 - val_loss: 0.2121 - val_accuracy: 0.9355\n",
            "Epoch 53/100\n",
            "422/422 [==============================] - 1s 2ms/step - loss: 0.2190 - accuracy: 0.9376 - val_loss: 0.2076 - val_accuracy: 0.9413\n",
            "Epoch 54/100\n",
            "422/422 [==============================] - 1s 2ms/step - loss: 0.2203 - accuracy: 0.9368 - val_loss: 0.2035 - val_accuracy: 0.9395\n",
            "Epoch 55/100\n",
            "422/422 [==============================] - 1s 2ms/step - loss: 0.2163 - accuracy: 0.9380 - val_loss: 0.1962 - val_accuracy: 0.9435\n",
            "Epoch 56/100\n",
            "422/422 [==============================] - 1s 2ms/step - loss: 0.2121 - accuracy: 0.9395 - val_loss: 0.2035 - val_accuracy: 0.9402\n",
            "Epoch 57/100\n",
            "422/422 [==============================] - 1s 2ms/step - loss: 0.2197 - accuracy: 0.9376 - val_loss: 0.2075 - val_accuracy: 0.9413\n",
            "Epoch 58/100\n",
            "422/422 [==============================] - 1s 2ms/step - loss: 0.2109 - accuracy: 0.9393 - val_loss: 0.2053 - val_accuracy: 0.9423\n",
            "Epoch 59/100\n",
            "422/422 [==============================] - 1s 2ms/step - loss: 0.2100 - accuracy: 0.9390 - val_loss: 0.2068 - val_accuracy: 0.9412\n",
            "Epoch 60/100\n",
            "422/422 [==============================] - 1s 2ms/step - loss: 0.2106 - accuracy: 0.9397 - val_loss: 0.2104 - val_accuracy: 0.9395\n",
            "Epoch 61/100\n",
            "422/422 [==============================] - 1s 2ms/step - loss: 0.2156 - accuracy: 0.9373 - val_loss: 0.2003 - val_accuracy: 0.9432\n",
            "Epoch 62/100\n",
            "422/422 [==============================] - 1s 2ms/step - loss: 0.2100 - accuracy: 0.9398 - val_loss: 0.2070 - val_accuracy: 0.9427\n",
            "Epoch 63/100\n",
            "422/422 [==============================] - 1s 2ms/step - loss: 0.2137 - accuracy: 0.9377 - val_loss: 0.2086 - val_accuracy: 0.9382\n",
            "Epoch 64/100\n",
            "422/422 [==============================] - 1s 2ms/step - loss: 0.2008 - accuracy: 0.9421 - val_loss: 0.2022 - val_accuracy: 0.9412\n",
            "Epoch 65/100\n",
            "422/422 [==============================] - 1s 2ms/step - loss: 0.2100 - accuracy: 0.9398 - val_loss: 0.2072 - val_accuracy: 0.9400\n",
            "Epoch 66/100\n",
            "422/422 [==============================] - 1s 2ms/step - loss: 0.2101 - accuracy: 0.9400 - val_loss: 0.1996 - val_accuracy: 0.9418\n",
            "Epoch 67/100\n",
            "422/422 [==============================] - 1s 2ms/step - loss: 0.2089 - accuracy: 0.9386 - val_loss: 0.1972 - val_accuracy: 0.9408\n",
            "Epoch 68/100\n",
            "422/422 [==============================] - 1s 2ms/step - loss: 0.2036 - accuracy: 0.9402 - val_loss: 0.1996 - val_accuracy: 0.9433\n",
            "Epoch 69/100\n",
            "422/422 [==============================] - 1s 2ms/step - loss: 0.2022 - accuracy: 0.9407 - val_loss: 0.1998 - val_accuracy: 0.9410\n",
            "Epoch 70/100\n",
            "422/422 [==============================] - 1s 2ms/step - loss: 0.2044 - accuracy: 0.9407 - val_loss: 0.2011 - val_accuracy: 0.9420\n",
            "Epoch 71/100\n",
            "422/422 [==============================] - 1s 2ms/step - loss: 0.2059 - accuracy: 0.9407 - val_loss: 0.2015 - val_accuracy: 0.9418\n",
            "Epoch 72/100\n",
            "422/422 [==============================] - 1s 2ms/step - loss: 0.2089 - accuracy: 0.9393 - val_loss: 0.1991 - val_accuracy: 0.9412\n",
            "Epoch 73/100\n",
            "422/422 [==============================] - 1s 2ms/step - loss: 0.2044 - accuracy: 0.9410 - val_loss: 0.1924 - val_accuracy: 0.9455\n",
            "Epoch 74/100\n",
            "422/422 [==============================] - 1s 2ms/step - loss: 0.1957 - accuracy: 0.9442 - val_loss: 0.1903 - val_accuracy: 0.9470\n",
            "Epoch 75/100\n",
            "422/422 [==============================] - 1s 2ms/step - loss: 0.1996 - accuracy: 0.9424 - val_loss: 0.1973 - val_accuracy: 0.9412\n",
            "Epoch 76/100\n",
            "422/422 [==============================] - 1s 2ms/step - loss: 0.1970 - accuracy: 0.9434 - val_loss: 0.2002 - val_accuracy: 0.9438\n",
            "Epoch 77/100\n",
            "422/422 [==============================] - 1s 2ms/step - loss: 0.2046 - accuracy: 0.9399 - val_loss: 0.1933 - val_accuracy: 0.9458\n",
            "Epoch 78/100\n",
            "422/422 [==============================] - 1s 2ms/step - loss: 0.1950 - accuracy: 0.9426 - val_loss: 0.1931 - val_accuracy: 0.9457\n",
            "Epoch 79/100\n",
            "422/422 [==============================] - 1s 2ms/step - loss: 0.1940 - accuracy: 0.9450 - val_loss: 0.1914 - val_accuracy: 0.9448\n",
            "Epoch 80/100\n",
            "422/422 [==============================] - 1s 2ms/step - loss: 0.1953 - accuracy: 0.9424 - val_loss: 0.1928 - val_accuracy: 0.9433\n",
            "Epoch 81/100\n",
            "422/422 [==============================] - 1s 2ms/step - loss: 0.1951 - accuracy: 0.9449 - val_loss: 0.2008 - val_accuracy: 0.9427\n",
            "Epoch 82/100\n",
            "422/422 [==============================] - 1s 2ms/step - loss: 0.1949 - accuracy: 0.9444 - val_loss: 0.1981 - val_accuracy: 0.9420\n",
            "Epoch 83/100\n",
            "422/422 [==============================] - 1s 2ms/step - loss: 0.1988 - accuracy: 0.9421 - val_loss: 0.1922 - val_accuracy: 0.9457\n",
            "Epoch 84/100\n",
            "422/422 [==============================] - 1s 2ms/step - loss: 0.1972 - accuracy: 0.9426 - val_loss: 0.1905 - val_accuracy: 0.9447\n",
            "Epoch 85/100\n",
            "422/422 [==============================] - 1s 2ms/step - loss: 0.1842 - accuracy: 0.9467 - val_loss: 0.1956 - val_accuracy: 0.9415\n",
            "Epoch 86/100\n",
            "422/422 [==============================] - 1s 2ms/step - loss: 0.1923 - accuracy: 0.9435 - val_loss: 0.2013 - val_accuracy: 0.9420\n",
            "Epoch 87/100\n",
            "422/422 [==============================] - 1s 2ms/step - loss: 0.1909 - accuracy: 0.9437 - val_loss: 0.1963 - val_accuracy: 0.9425\n",
            "Epoch 88/100\n",
            "422/422 [==============================] - 1s 2ms/step - loss: 0.1930 - accuracy: 0.9439 - val_loss: 0.1842 - val_accuracy: 0.9437\n",
            "Epoch 89/100\n",
            "422/422 [==============================] - 1s 2ms/step - loss: 0.1893 - accuracy: 0.9441 - val_loss: 0.1879 - val_accuracy: 0.9432\n",
            "Epoch 90/100\n",
            "422/422 [==============================] - 1s 2ms/step - loss: 0.1898 - accuracy: 0.9444 - val_loss: 0.1814 - val_accuracy: 0.9480\n",
            "Epoch 91/100\n",
            "422/422 [==============================] - 1s 2ms/step - loss: 0.1911 - accuracy: 0.9440 - val_loss: 0.1857 - val_accuracy: 0.9467\n",
            "Epoch 92/100\n",
            "422/422 [==============================] - 1s 2ms/step - loss: 0.1920 - accuracy: 0.9421 - val_loss: 0.1881 - val_accuracy: 0.9477\n",
            "Epoch 93/100\n",
            "422/422 [==============================] - 1s 2ms/step - loss: 0.1881 - accuracy: 0.9439 - val_loss: 0.1937 - val_accuracy: 0.9440\n",
            "Epoch 94/100\n",
            "422/422 [==============================] - 1s 2ms/step - loss: 0.1963 - accuracy: 0.9419 - val_loss: 0.1853 - val_accuracy: 0.9468\n",
            "Epoch 95/100\n",
            "422/422 [==============================] - 1s 2ms/step - loss: 0.1819 - accuracy: 0.9465 - val_loss: 0.1872 - val_accuracy: 0.9448\n",
            "Epoch 96/100\n",
            "422/422 [==============================] - 1s 2ms/step - loss: 0.1898 - accuracy: 0.9449 - val_loss: 0.1850 - val_accuracy: 0.9468\n",
            "Epoch 97/100\n",
            "422/422 [==============================] - 1s 2ms/step - loss: 0.1839 - accuracy: 0.9456 - val_loss: 0.1852 - val_accuracy: 0.9458\n",
            "Epoch 98/100\n",
            "422/422 [==============================] - 1s 2ms/step - loss: 0.1899 - accuracy: 0.9449 - val_loss: 0.1859 - val_accuracy: 0.9463\n",
            "Epoch 99/100\n",
            "422/422 [==============================] - 1s 2ms/step - loss: 0.1844 - accuracy: 0.9457 - val_loss: 0.1903 - val_accuracy: 0.9443\n",
            "Epoch 100/100\n",
            "422/422 [==============================] - 1s 2ms/step - loss: 0.1813 - accuracy: 0.9479 - val_loss: 0.1869 - val_accuracy: 0.9440\n"
          ],
          "name": "stdout"
        }
      ]
    },
    {
      "cell_type": "code",
      "metadata": {
        "colab": {
          "base_uri": "https://localhost:8080/"
        },
        "id": "tPly-fR9Es8L",
        "outputId": "0395910e-264b-44a3-a811-c448d1f3e7a5"
      },
      "source": [
        "loss,accuracy=model.evaluate(x_test,y_test,verbose=True)"
      ],
      "execution_count": null,
      "outputs": [
        {
          "output_type": "stream",
          "text": [
            "313/313 [==============================] - 0s 985us/step - loss: 0.2122 - accuracy: 0.9365\n"
          ],
          "name": "stdout"
        }
      ]
    },
    {
      "cell_type": "code",
      "metadata": {
        "colab": {
          "base_uri": "https://localhost:8080/",
          "height": 295
        },
        "id": "5iiqGj44Feo-",
        "outputId": "725235ed-4d42-402b-cbd7-c1e7d9f8d3f1"
      },
      "source": [
        "plt.plot(history.history['accuracy'])\r\n",
        "plt.plot(history.history['val_accuracy'])\r\n",
        "plt.title('model accuracy')\r\n",
        "plt.ylabel('accuracy')\r\n",
        "plt.xlabel('epoch')\r\n",
        "plt.legend(['training','validation'],loc='best')\r\n",
        "plt.show()"
      ],
      "execution_count": null,
      "outputs": [
        {
          "output_type": "display_data",
          "data": {
            "image/png": "[encoded data removed]",
            "text/plain": [
              "<Figure size 432x288 with 1 Axes>"
            ]
          },
          "metadata": {
            "tags": [],
            "needs_background": "light"
          }
        }
      ]
    }
  ]
}